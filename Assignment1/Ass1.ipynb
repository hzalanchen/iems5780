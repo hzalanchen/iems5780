{
 "cells": [
  {
   "cell_type": "code",
   "execution_count": 6,
   "id": "6af90015",
   "metadata": {},
   "outputs": [
    {
     "name": "stdout",
     "output_type": "stream",
     "text": [
      "4\n",
      "5\n",
      "14\n"
     ]
    }
   ],
   "source": [
    "# Problem 2\n",
    "def problem_2(a,b):\n",
    "    output = 0\n",
    "    \n",
    "    for i in range(a,b+1):\n",
    "        # Range [a,b]\n",
    "        if i % 5 == 0 and i % 4 != 0:\n",
    "            output += 1\n",
    "    return output\n",
    "\n",
    "\n",
    "print(problem_2(10,30))\n",
    "print(problem_2(10,40))\n",
    "print(problem_2(10,100))"
   ]
  },
  {
   "cell_type": "code",
   "execution_count": 8,
   "id": "998b4731",
   "metadata": {},
   "outputs": [
    {
     "name": "stdout",
     "output_type": "stream",
     "text": [
      "89784\n",
      "0\n"
     ]
    }
   ],
   "source": [
    "# Problem 3\n",
    "def problem_3(n):\n",
    "    output = 0\n",
    "    # iIf n is not a single digit, return 0\n",
    "    if n not in range(0,9): return 0\n",
    "    else:\n",
    "        # n + nnn + nnnnn\n",
    "        output = n * 11111 + n * 111 + n    \n",
    "    return output\n",
    "\n",
    "print(problem_3(8))\n",
    "print(problem_3(10))"
   ]
  },
  {
   "cell_type": "code",
   "execution_count": 31,
   "id": "2bb0defb",
   "metadata": {},
   "outputs": [
    {
     "name": "stdout",
     "output_type": "stream",
     "text": [
      "([1, 3, -2, 4, 8], 14)\n"
     ]
    }
   ],
   "source": [
    "# Problem 4\n",
    "def problem_4(nums):\n",
    "    # Use dynamic programming\n",
    "    seq = []\n",
    "    seq_sum = 0\n",
    "    # If the nums is empty, return 0\n",
    "    if nums == []: return 0\n",
    "    else:\n",
    "        # temp list store the max sum ends with nums[i]\n",
    "        temp = [0]*len(nums)\n",
    "        temp[0] = nums[0]\n",
    "        for i in range(1,len(nums)):\n",
    "            temp[i] = max(temp[i-1]+nums[i],nums[i])\n",
    "    seq_sum = max(temp)\n",
    "    max_index = temp.index(seq_sum)\n",
    "    total_sum = 0\n",
    "    start = 0\n",
    "    # Find the start of the subsequence \n",
    "    for i in range(max_index,0,-1):\n",
    "        total_sum += nums[i]\n",
    "        if total_sum == seq_sum:\n",
    "            start = i\n",
    "            break\n",
    "    seq = nums[start:max_index+1]\n",
    "    return seq, seq_sum\n",
    "\n",
    "print(problem_4([1,3,-2,4,8,-9,0,5]))        \n",
    "         "
   ]
  },
  {
   "cell_type": "code",
   "execution_count": 33,
   "id": "6b8282eb",
   "metadata": {},
   "outputs": [
    {
     "name": "stdout",
     "output_type": "stream",
     "text": [
      " chinese hong kong of the university\n"
     ]
    }
   ],
   "source": [
    "# Problem 5\n",
    "def problem_5(sentence):\n",
    "    output = \"\"\n",
    "    sorted_words = sorted(sentence.split())\n",
    "    for word in sorted_words: output = output + \" \" + word\n",
    "    return output\n",
    "\n",
    "print(problem_5('the chinese university of hong kong'))"
   ]
  },
  {
   "cell_type": "code",
   "execution_count": 87,
   "id": "21449ef3",
   "metadata": {},
   "outputs": [
    {
     "name": "stdout",
     "output_type": "stream",
     "text": [
      "[(8, 'the'), (4, 'of'), (4, 'protocol'), (3, 'applications'), (3, 'internet')]\n"
     ]
    }
   ],
   "source": [
    "# Problem 6\n",
    "def problem_6(sentence):\n",
    "    output = []\n",
    "    \n",
    "    words_dict = {}\n",
    "    words = sentence.split()\n",
    "    #Convert all alphabets into lowercases\n",
    "    words = list(map(lambda x:x.lower(),words))\n",
    "    for word in words:\n",
    "        if word not in words_dict:\n",
    "            words_dict[word] = 1\n",
    "        else: words_dict[word] +=1\n",
    "    # Sort\n",
    "    words_list = sorted(words_dict.items(), key = lambda x:x[1], reverse = True)\n",
    "    output1 = words_list[:5]\n",
    "    # Mutilple layer sort\n",
    "    output1 = sorted(output1, key = lambda x:(-x[1],x[0]))\n",
    "    # Format\n",
    "    for i in output1:output.append((i[1],i[0]))\n",
    "\n",
    "    return output\n",
    "\n",
    "sentence = \"\"\"\n",
    "The Transmission Control Protocol (TCP) is one of the main protocols of the\n",
    "Internet protocol suite. It originated in the initial network implementation\n",
    "in which it complemented the Internet Protocol (IP).\n",
    "Therefore, the entire suite is commonly referred to as TCP/IP. TCP provides\n",
    "reliable, ordered, and error-checked delivery of a stream of octets between\n",
    "applications running on hosts communicating by an IP network. Major Internet\n",
    "applications such as the World Wide Web, email, remote administration, and\n",
    "file transfer rely on TCP. Applications that do not require reliable data\n",
    "stream service may use the User Datagram Protocol (UDP), which provides a\n",
    "connectionless datagram service that emphasizes reduced latency over\n",
    "reliability.\n",
    "\"\"\"\n",
    "print(problem_6(sentence))"
   ]
  },
  {
   "cell_type": "code",
   "execution_count": 118,
   "id": "ae0cca11",
   "metadata": {},
   "outputs": [
    {
     "data": {
      "text/plain": [
       "[{'hkid': 'A123456(1)',\n",
       "  'sex': 'M',\n",
       "  'dob': '1985-10-20',\n",
       "  'location': 'Mongkok'},\n",
       " {'hkid': 'B234567(2)', 'sex': 'F', 'dob': '1990-02-12', 'location': 'Shatin'}]"
      ]
     },
     "execution_count": 118,
     "metadata": {},
     "output_type": "execute_result"
    }
   ],
   "source": [
    "# Problem 7\n",
    "import csv\n",
    "def problem_7(csv_file_path):\n",
    "    output = []\n",
    "    f = open(csv_file_path, 'r', encoding='utf-8-sig')\n",
    "    reader = csv.reader(f)\n",
    "    rows = [row for row in reader]\n",
    "    row_len = len(rows)\n",
    "    col_len = len(rows[0])\n",
    "    for i in range(1,row_len):\n",
    "        temp_dict = {}\n",
    "        for j in range(col_len):\n",
    "            temp_dict[rows[0][j]] = rows[i][j]\n",
    "        output.append(temp_dict)\n",
    "    return output\n",
    "            \n",
    "problem_7(\"problem7.csv\")"
   ]
  },
  {
   "cell_type": "code",
   "execution_count": 15,
   "id": "eafbd3fc",
   "metadata": {},
   "outputs": [
    {
     "name": "stdout",
     "output_type": "stream",
     "text": [
      "True\n"
     ]
    }
   ],
   "source": [
    "# Problem  8 \n",
    "def problem_8(board): \n",
    "    '''\n",
    "    Each row must contain the digits 1 to 9 without repetition\n",
    "    Each column must contain the digits 1 to 9 without repetition\n",
    "    Each of the 9 3x3 boxes of the grid must contain the digits 1 to 9 without repetition.\n",
    "    zeros indicate that the cell is empty\n",
    "    '''\n",
    "    valid = False      \n",
    "    \n",
    "    row = [[0] * 10 for _ in range(9)]\n",
    "    col = [[0] * 10 for _ in range(9)]\n",
    "    box = [[0] * 10 for _ in range(9)]\n",
    "    \n",
    "    for i in range(9):\n",
    "        for j in range(9):\n",
    "            if board[i][j] == 0: continue\n",
    "            curNum = board[i][j]\n",
    "            if row[i][curNum] != 0 or col[j][curNum] != 0 or box[j // 3 + (i // 3) * 3][curNum] !=0:\n",
    "                return valid\n",
    "            row[i][curNum], col[j][curNum],box[j // 3 + (i // 3) * 3][curNum] = 1, 1, 1\n",
    "    valid = True\n",
    "    return valid\n",
    "\n",
    "board = [\n",
    "[0, 0, 0, 0, 0, 0, 0, 0, 0],\n",
    "[0, 2, 0, 0, 9, 0, 0, 4, 0],\n",
    "[0, 0, 0, 6, 0, 0, 7, 0, 0],\n",
    "[0, 0, 0, 0, 0, 0, 0, 0, 0],\n",
    "[0, 3, 0, 0, 0, 0, 0, 0, 2],\n",
    "[0, 0, 0, 0, 0, 0, 0, 0, 0],\n",
    "[1, 0, 0, 3, 0, 0, 5, 0, 0],\n",
    "[0, 0, 4, 0, 0, 0, 0, 3, 0],\n",
    "[8, 0, 0, 2, 0, 0, 0, 0, 1]\n",
    "]\n",
    "\n",
    "print(problem_8(board))"
   ]
  }
 ],
 "metadata": {
  "kernelspec": {
   "display_name": "Python 3 (ipykernel)",
   "language": "python",
   "name": "python3"
  },
  "language_info": {
   "codemirror_mode": {
    "name": "ipython",
    "version": 3
   },
   "file_extension": ".py",
   "mimetype": "text/x-python",
   "name": "python",
   "nbconvert_exporter": "python",
   "pygments_lexer": "ipython3",
   "version": "3.7.4"
  }
 },
 "nbformat": 4,
 "nbformat_minor": 5
}
